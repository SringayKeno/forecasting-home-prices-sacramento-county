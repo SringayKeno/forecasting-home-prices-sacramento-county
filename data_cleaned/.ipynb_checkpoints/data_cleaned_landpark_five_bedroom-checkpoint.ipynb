{
 "cells": [
  {
   "cell_type": "markdown",
   "id": "88825369",
   "metadata": {},
   "source": [
    " import libraries"
   ]
  },
  {
   "cell_type": "markdown",
   "id": "72b572bb",
   "metadata": {},
   "source": [
    "  import pickle \n",
    " *  *pickle module implements binary protocols for serializing and de-serializing a* \n",
    "    *python object structure. “pickling” is the process whereby a python object hierarchy is*\n",
    "    *converted into a byte stream*"
   ]
  },
  {
   "cell_type": "code",
   "execution_count": 1,
   "id": "c2d518f1",
   "metadata": {},
   "outputs": [],
   "source": [
    "import pandas as p\n",
    "import numpy as np\n",
    "import pickle\n",
    "import emoji"
   ]
  },
  {
   "cell_type": "markdown",
   "id": "542c8e1d",
   "metadata": {},
   "source": [
    " let's load some data!   "
   ]
  },
  {
   "cell_type": "code",
   "execution_count": 2,
   "id": "c405df88",
   "metadata": {},
   "outputs": [
    {
     "data": {
      "text/html": [
       "<div>\n",
       "<style scoped>\n",
       "    .dataframe tbody tr th:only-of-type {\n",
       "        vertical-align: middle;\n",
       "    }\n",
       "\n",
       "    .dataframe tbody tr th {\n",
       "        vertical-align: top;\n",
       "    }\n",
       "\n",
       "    .dataframe thead th {\n",
       "        text-align: right;\n",
       "    }\n",
       "</style>\n",
       "<table border=\"1\" class=\"dataframe\">\n",
       "  <thead>\n",
       "    <tr style=\"text-align: right;\">\n",
       "      <th></th>\n",
       "      <th>RegionID</th>\n",
       "      <th>SizeRank</th>\n",
       "      <th>RegionName</th>\n",
       "      <th>RegionType</th>\n",
       "      <th>StateName</th>\n",
       "      <th>State</th>\n",
       "      <th>City</th>\n",
       "      <th>Metro</th>\n",
       "      <th>CountyName</th>\n",
       "      <th>2000-01-31</th>\n",
       "      <th>...</th>\n",
       "      <th>2021-11-30</th>\n",
       "      <th>2021-12-31</th>\n",
       "      <th>2022-01-31</th>\n",
       "      <th>2022-02-28</th>\n",
       "      <th>2022-03-31</th>\n",
       "      <th>2022-04-30</th>\n",
       "      <th>2022-05-31</th>\n",
       "      <th>2022-06-30</th>\n",
       "      <th>2022-07-31</th>\n",
       "      <th>2022-08-31</th>\n",
       "    </tr>\n",
       "  </thead>\n",
       "  <tbody>\n",
       "    <tr>\n",
       "      <th>0</th>\n",
       "      <td>91940</td>\n",
       "      <td>0</td>\n",
       "      <td>77449</td>\n",
       "      <td>zip</td>\n",
       "      <td>TX</td>\n",
       "      <td>TX</td>\n",
       "      <td>NaN</td>\n",
       "      <td>Houston-The Woodlands-Sugar Land, TX</td>\n",
       "      <td>Harris County</td>\n",
       "      <td>144867.0</td>\n",
       "      <td>...</td>\n",
       "      <td>304294.0</td>\n",
       "      <td>309317.0</td>\n",
       "      <td>314306.0</td>\n",
       "      <td>319449.0</td>\n",
       "      <td>325520.0</td>\n",
       "      <td>332583.0</td>\n",
       "      <td>340438.0</td>\n",
       "      <td>346942.0</td>\n",
       "      <td>351436.0</td>\n",
       "      <td>353866.0</td>\n",
       "    </tr>\n",
       "    <tr>\n",
       "      <th>1</th>\n",
       "      <td>91982</td>\n",
       "      <td>1</td>\n",
       "      <td>77494</td>\n",
       "      <td>zip</td>\n",
       "      <td>TX</td>\n",
       "      <td>TX</td>\n",
       "      <td>NaN</td>\n",
       "      <td>Houston-The Woodlands-Sugar Land, TX</td>\n",
       "      <td>Fort Bend County</td>\n",
       "      <td>309107.0</td>\n",
       "      <td>...</td>\n",
       "      <td>598639.0</td>\n",
       "      <td>605575.0</td>\n",
       "      <td>613120.0</td>\n",
       "      <td>625859.0</td>\n",
       "      <td>641540.0</td>\n",
       "      <td>660969.0</td>\n",
       "      <td>676713.0</td>\n",
       "      <td>686527.0</td>\n",
       "      <td>688086.0</td>\n",
       "      <td>684677.0</td>\n",
       "    </tr>\n",
       "    <tr>\n",
       "      <th>2</th>\n",
       "      <td>93144</td>\n",
       "      <td>2</td>\n",
       "      <td>79936</td>\n",
       "      <td>zip</td>\n",
       "      <td>TX</td>\n",
       "      <td>TX</td>\n",
       "      <td>El Paso</td>\n",
       "      <td>El Paso, TX</td>\n",
       "      <td>El Paso County</td>\n",
       "      <td>188400.0</td>\n",
       "      <td>...</td>\n",
       "      <td>344460.0</td>\n",
       "      <td>346993.0</td>\n",
       "      <td>350908.0</td>\n",
       "      <td>355780.0</td>\n",
       "      <td>360515.0</td>\n",
       "      <td>367114.0</td>\n",
       "      <td>373956.0</td>\n",
       "      <td>380715.0</td>\n",
       "      <td>385174.0</td>\n",
       "      <td>387525.0</td>\n",
       "    </tr>\n",
       "  </tbody>\n",
       "</table>\n",
       "<p>3 rows × 281 columns</p>\n",
       "</div>"
      ],
      "text/plain": [
       "   RegionID  SizeRank  RegionName RegionType StateName State     City  \\\n",
       "0     91940         0       77449        zip        TX    TX      NaN   \n",
       "1     91982         1       77494        zip        TX    TX      NaN   \n",
       "2     93144         2       79936        zip        TX    TX  El Paso   \n",
       "\n",
       "                                  Metro        CountyName  2000-01-31  ...  \\\n",
       "0  Houston-The Woodlands-Sugar Land, TX     Harris County    144867.0  ...   \n",
       "1  Houston-The Woodlands-Sugar Land, TX  Fort Bend County    309107.0  ...   \n",
       "2                           El Paso, TX    El Paso County    188400.0  ...   \n",
       "\n",
       "   2021-11-30  2021-12-31  2022-01-31  2022-02-28  2022-03-31  2022-04-30  \\\n",
       "0    304294.0    309317.0    314306.0    319449.0    325520.0    332583.0   \n",
       "1    598639.0    605575.0    613120.0    625859.0    641540.0    660969.0   \n",
       "2    344460.0    346993.0    350908.0    355780.0    360515.0    367114.0   \n",
       "\n",
       "   2022-05-31  2022-06-30  2022-07-31  2022-08-31  \n",
       "0    340438.0    346942.0    351436.0    353866.0  \n",
       "1    676713.0    686527.0    688086.0    684677.0  \n",
       "2    373956.0    380715.0    385174.0    387525.0  \n",
       "\n",
       "[3 rows x 281 columns]"
      ]
     },
     "execution_count": 2,
     "metadata": {},
     "output_type": "execute_result"
    }
   ],
   "source": [
    "df=p.read_csv('five_bedroom_zhiv.csv')\n",
    "df.head(3)"
   ]
  },
  {
   "cell_type": "markdown",
   "id": "1ed41f6b",
   "metadata": {},
   "source": [
    " export metaData w pickles  🥒 \n",
    "\n",
    "*  removing region data- iloc[:, 0:9]\n",
    "*  check column (cols)\n",
    "*     import os.mkdir()\n",
    "   *  *mkdir is used for creating or making a new directory*\n",
    "*     dump metaData\n",
    "  *  'wb' for writing binary file. \n",
    "  *  'fp' file pointer"
   ]
  },
  {
   "cell_type": "code",
   "execution_count": 3,
   "id": "ae67446a",
   "metadata": {},
   "outputs": [],
   "source": [
    "meta = df.iloc[:, 0:9]"
   ]
  },
  {
   "cell_type": "code",
   "execution_count": 4,
   "id": "5cdea694",
   "metadata": {
    "scrolled": true
   },
   "outputs": [
    {
     "data": {
      "text/plain": [
       "Index(['RegionID', 'SizeRank', 'RegionName', 'RegionType', 'StateName',\n",
       "       'State', 'City', 'Metro', 'CountyName'],\n",
       "      dtype='object')"
      ]
     },
     "execution_count": 4,
     "metadata": {},
     "output_type": "execute_result"
    }
   ],
   "source": [
    "meta.columns"
   ]
  },
  {
   "cell_type": "code",
   "execution_count": 5,
   "id": "25a5965f",
   "metadata": {},
   "outputs": [],
   "source": [
    "#import os\n",
    "#os.mkdir('pickle')"
   ]
  },
  {
   "cell_type": "code",
   "execution_count": 6,
   "id": "d9c4082a",
   "metadata": {},
   "outputs": [],
   "source": [
    "with open('pickle/meta_land_park_five_bedroom.pkl', 'wb') as fp:\n",
    "    pickle.dump(meta, fp)"
   ]
  },
  {
   "cell_type": "markdown",
   "id": "49242aab",
   "metadata": {},
   "source": [
    " subsetting \n",
    "*  creating sac (sacramento) dataFrame\n",
    "*  get list\n",
    "*  remove col RegionName\n",
    "*  drop cols (columns)\n"
   ]
  },
  {
   "cell_type": "code",
   "execution_count": 7,
   "id": "8f582fad",
   "metadata": {},
   "outputs": [],
   "source": [
    "subset = df[df[\"RegionName\"].isin([95624,95630,95818,95819])]"
   ]
  },
  {
   "cell_type": "code",
   "execution_count": 8,
   "id": "0a0773ef",
   "metadata": {},
   "outputs": [],
   "source": [
    "meta_cols = list(df.columns[0:9])"
   ]
  },
  {
   "cell_type": "code",
   "execution_count": 9,
   "id": "c2cc685c",
   "metadata": {},
   "outputs": [],
   "source": [
    "meta_cols.remove('RegionName')"
   ]
  },
  {
   "cell_type": "code",
   "execution_count": 10,
   "id": "415e8399",
   "metadata": {},
   "outputs": [],
   "source": [
    "subset = subset.drop(meta_cols, axis = 1)"
   ]
  },
  {
   "cell_type": "markdown",
   "id": "bda8bd5c",
   "metadata": {},
   "source": [
    " examine data "
   ]
  },
  {
   "cell_type": "code",
   "execution_count": 11,
   "id": "d019ea85",
   "metadata": {},
   "outputs": [
    {
     "data": {
      "text/plain": [
       "(4, 273)"
      ]
     },
     "execution_count": 11,
     "metadata": {},
     "output_type": "execute_result"
    }
   ],
   "source": [
    "subset.shape"
   ]
  },
  {
   "cell_type": "code",
   "execution_count": 12,
   "id": "0977921b",
   "metadata": {},
   "outputs": [
    {
     "data": {
      "text/html": [
       "<div>\n",
       "<style scoped>\n",
       "    .dataframe tbody tr th:only-of-type {\n",
       "        vertical-align: middle;\n",
       "    }\n",
       "\n",
       "    .dataframe tbody tr th {\n",
       "        vertical-align: top;\n",
       "    }\n",
       "\n",
       "    .dataframe thead th {\n",
       "        text-align: right;\n",
       "    }\n",
       "</style>\n",
       "<table border=\"1\" class=\"dataframe\">\n",
       "  <thead>\n",
       "    <tr style=\"text-align: right;\">\n",
       "      <th></th>\n",
       "      <th>RegionName</th>\n",
       "      <th>2000-01-31</th>\n",
       "      <th>2000-02-29</th>\n",
       "      <th>2000-03-31</th>\n",
       "      <th>2000-04-30</th>\n",
       "      <th>2000-05-31</th>\n",
       "      <th>2000-06-30</th>\n",
       "      <th>2000-07-31</th>\n",
       "      <th>2000-08-31</th>\n",
       "      <th>2000-09-30</th>\n",
       "      <th>...</th>\n",
       "      <th>2021-11-30</th>\n",
       "      <th>2021-12-31</th>\n",
       "      <th>2022-01-31</th>\n",
       "      <th>2022-02-28</th>\n",
       "      <th>2022-03-31</th>\n",
       "      <th>2022-04-30</th>\n",
       "      <th>2022-05-31</th>\n",
       "      <th>2022-06-30</th>\n",
       "      <th>2022-07-31</th>\n",
       "      <th>2022-08-31</th>\n",
       "    </tr>\n",
       "  </thead>\n",
       "  <tbody>\n",
       "    <tr>\n",
       "      <th>95</th>\n",
       "      <td>95630</td>\n",
       "      <td>348238.0</td>\n",
       "      <td>349577.0</td>\n",
       "      <td>351199.0</td>\n",
       "      <td>354037.0</td>\n",
       "      <td>357528.0</td>\n",
       "      <td>360617.0</td>\n",
       "      <td>365232.0</td>\n",
       "      <td>368961.0</td>\n",
       "      <td>373433.0</td>\n",
       "      <td>...</td>\n",
       "      <td>995908.0</td>\n",
       "      <td>999957.0</td>\n",
       "      <td>1015597.0</td>\n",
       "      <td>1031689.0</td>\n",
       "      <td>1047843.0</td>\n",
       "      <td>1061367.0</td>\n",
       "      <td>1075306.0</td>\n",
       "      <td>1086665.0</td>\n",
       "      <td>1087806.0</td>\n",
       "      <td>1069922.0</td>\n",
       "    </tr>\n",
       "    <tr>\n",
       "      <th>255</th>\n",
       "      <td>95624</td>\n",
       "      <td>239287.0</td>\n",
       "      <td>240279.0</td>\n",
       "      <td>241601.0</td>\n",
       "      <td>243729.0</td>\n",
       "      <td>245949.0</td>\n",
       "      <td>248363.0</td>\n",
       "      <td>250959.0</td>\n",
       "      <td>253741.0</td>\n",
       "      <td>256325.0</td>\n",
       "      <td>...</td>\n",
       "      <td>726830.0</td>\n",
       "      <td>734117.0</td>\n",
       "      <td>747478.0</td>\n",
       "      <td>760560.0</td>\n",
       "      <td>772249.0</td>\n",
       "      <td>781733.0</td>\n",
       "      <td>791239.0</td>\n",
       "      <td>798696.0</td>\n",
       "      <td>798795.0</td>\n",
       "      <td>788007.0</td>\n",
       "    </tr>\n",
       "    <tr>\n",
       "      <th>5343</th>\n",
       "      <td>95818</td>\n",
       "      <td>194506.0</td>\n",
       "      <td>196055.0</td>\n",
       "      <td>197607.0</td>\n",
       "      <td>200047.0</td>\n",
       "      <td>202376.0</td>\n",
       "      <td>202933.0</td>\n",
       "      <td>206037.0</td>\n",
       "      <td>209308.0</td>\n",
       "      <td>214076.0</td>\n",
       "      <td>...</td>\n",
       "      <td>1221293.0</td>\n",
       "      <td>1224653.0</td>\n",
       "      <td>1240460.0</td>\n",
       "      <td>1259573.0</td>\n",
       "      <td>1280311.0</td>\n",
       "      <td>1301152.0</td>\n",
       "      <td>1320879.0</td>\n",
       "      <td>1334213.0</td>\n",
       "      <td>1326517.0</td>\n",
       "      <td>1296456.0</td>\n",
       "    </tr>\n",
       "    <tr>\n",
       "      <th>5716</th>\n",
       "      <td>95819</td>\n",
       "      <td>138407.0</td>\n",
       "      <td>139184.0</td>\n",
       "      <td>140067.0</td>\n",
       "      <td>141140.0</td>\n",
       "      <td>142906.0</td>\n",
       "      <td>144435.0</td>\n",
       "      <td>146251.0</td>\n",
       "      <td>147122.0</td>\n",
       "      <td>149186.0</td>\n",
       "      <td>...</td>\n",
       "      <td>1251315.0</td>\n",
       "      <td>1253802.0</td>\n",
       "      <td>1271997.0</td>\n",
       "      <td>1296843.0</td>\n",
       "      <td>1322138.0</td>\n",
       "      <td>1345789.0</td>\n",
       "      <td>1363416.0</td>\n",
       "      <td>1377550.0</td>\n",
       "      <td>1367673.0</td>\n",
       "      <td>1334441.0</td>\n",
       "    </tr>\n",
       "  </tbody>\n",
       "</table>\n",
       "<p>4 rows × 273 columns</p>\n",
       "</div>"
      ],
      "text/plain": [
       "      RegionName  2000-01-31  2000-02-29  2000-03-31  2000-04-30  2000-05-31  \\\n",
       "95         95630    348238.0    349577.0    351199.0    354037.0    357528.0   \n",
       "255        95624    239287.0    240279.0    241601.0    243729.0    245949.0   \n",
       "5343       95818    194506.0    196055.0    197607.0    200047.0    202376.0   \n",
       "5716       95819    138407.0    139184.0    140067.0    141140.0    142906.0   \n",
       "\n",
       "      2000-06-30  2000-07-31  2000-08-31  2000-09-30  ...  2021-11-30  \\\n",
       "95      360617.0    365232.0    368961.0    373433.0  ...    995908.0   \n",
       "255     248363.0    250959.0    253741.0    256325.0  ...    726830.0   \n",
       "5343    202933.0    206037.0    209308.0    214076.0  ...   1221293.0   \n",
       "5716    144435.0    146251.0    147122.0    149186.0  ...   1251315.0   \n",
       "\n",
       "      2021-12-31  2022-01-31  2022-02-28  2022-03-31  2022-04-30  2022-05-31  \\\n",
       "95      999957.0   1015597.0   1031689.0   1047843.0   1061367.0   1075306.0   \n",
       "255     734117.0    747478.0    760560.0    772249.0    781733.0    791239.0   \n",
       "5343   1224653.0   1240460.0   1259573.0   1280311.0   1301152.0   1320879.0   \n",
       "5716   1253802.0   1271997.0   1296843.0   1322138.0   1345789.0   1363416.0   \n",
       "\n",
       "      2022-06-30  2022-07-31  2022-08-31  \n",
       "95     1086665.0   1087806.0   1069922.0  \n",
       "255     798696.0    798795.0    788007.0  \n",
       "5343   1334213.0   1326517.0   1296456.0  \n",
       "5716   1377550.0   1367673.0   1334441.0  \n",
       "\n",
       "[4 rows x 273 columns]"
      ]
     },
     "execution_count": 12,
     "metadata": {},
     "output_type": "execute_result"
    }
   ],
   "source": [
    "subset.head(5)"
   ]
  },
  {
   "cell_type": "markdown",
   "id": "9aeec9bb",
   "metadata": {},
   "source": [
    " nulls? if so, how many?"
   ]
  },
  {
   "cell_type": "code",
   "execution_count": 13,
   "id": "68009eff",
   "metadata": {},
   "outputs": [
    {
     "data": {
      "text/plain": [
       "1"
      ]
     },
     "execution_count": 13,
     "metadata": {},
     "output_type": "execute_result"
    }
   ],
   "source": [
    "subset.isna().sum().sum()"
   ]
  },
  {
   "cell_type": "markdown",
   "id": "94148f7a",
   "metadata": {},
   "source": [
    " nulls? which columns?"
   ]
  },
  {
   "cell_type": "markdown",
   "id": "65a2ec30",
   "metadata": {},
   "source": [
    " nulls? which rows?"
   ]
  },
  {
   "cell_type": "code",
   "execution_count": 14,
   "id": "7b29774a",
   "metadata": {},
   "outputs": [
    {
     "data": {
      "text/html": [
       "<div>\n",
       "<style scoped>\n",
       "    .dataframe tbody tr th:only-of-type {\n",
       "        vertical-align: middle;\n",
       "    }\n",
       "\n",
       "    .dataframe tbody tr th {\n",
       "        vertical-align: top;\n",
       "    }\n",
       "\n",
       "    .dataframe thead th {\n",
       "        text-align: right;\n",
       "    }\n",
       "</style>\n",
       "<table border=\"1\" class=\"dataframe\">\n",
       "  <thead>\n",
       "    <tr style=\"text-align: right;\">\n",
       "      <th></th>\n",
       "      <th>RegionName</th>\n",
       "      <th>2000-01-31</th>\n",
       "      <th>2000-02-29</th>\n",
       "      <th>2000-03-31</th>\n",
       "      <th>2000-04-30</th>\n",
       "      <th>2000-05-31</th>\n",
       "      <th>2000-06-30</th>\n",
       "      <th>2000-07-31</th>\n",
       "      <th>2000-08-31</th>\n",
       "      <th>2000-09-30</th>\n",
       "      <th>...</th>\n",
       "      <th>2021-11-30</th>\n",
       "      <th>2021-12-31</th>\n",
       "      <th>2022-01-31</th>\n",
       "      <th>2022-02-28</th>\n",
       "      <th>2022-03-31</th>\n",
       "      <th>2022-04-30</th>\n",
       "      <th>2022-05-31</th>\n",
       "      <th>2022-06-30</th>\n",
       "      <th>2022-07-31</th>\n",
       "      <th>2022-08-31</th>\n",
       "    </tr>\n",
       "  </thead>\n",
       "  <tbody>\n",
       "    <tr>\n",
       "      <th>5716</th>\n",
       "      <td>95819</td>\n",
       "      <td>138407.0</td>\n",
       "      <td>139184.0</td>\n",
       "      <td>140067.0</td>\n",
       "      <td>141140.0</td>\n",
       "      <td>142906.0</td>\n",
       "      <td>144435.0</td>\n",
       "      <td>146251.0</td>\n",
       "      <td>147122.0</td>\n",
       "      <td>149186.0</td>\n",
       "      <td>...</td>\n",
       "      <td>1251315.0</td>\n",
       "      <td>1253802.0</td>\n",
       "      <td>1271997.0</td>\n",
       "      <td>1296843.0</td>\n",
       "      <td>1322138.0</td>\n",
       "      <td>1345789.0</td>\n",
       "      <td>1363416.0</td>\n",
       "      <td>1377550.0</td>\n",
       "      <td>1367673.0</td>\n",
       "      <td>1334441.0</td>\n",
       "    </tr>\n",
       "  </tbody>\n",
       "</table>\n",
       "<p>1 rows × 273 columns</p>\n",
       "</div>"
      ],
      "text/plain": [
       "      RegionName  2000-01-31  2000-02-29  2000-03-31  2000-04-30  2000-05-31  \\\n",
       "5716       95819    138407.0    139184.0    140067.0    141140.0    142906.0   \n",
       "\n",
       "      2000-06-30  2000-07-31  2000-08-31  2000-09-30  ...  2021-11-30  \\\n",
       "5716    144435.0    146251.0    147122.0    149186.0  ...   1251315.0   \n",
       "\n",
       "      2021-12-31  2022-01-31  2022-02-28  2022-03-31  2022-04-30  2022-05-31  \\\n",
       "5716   1253802.0   1271997.0   1296843.0   1322138.0   1345789.0   1363416.0   \n",
       "\n",
       "      2022-06-30  2022-07-31  2022-08-31  \n",
       "5716   1377550.0   1367673.0   1334441.0  \n",
       "\n",
       "[1 rows x 273 columns]"
      ]
     },
     "execution_count": 14,
     "metadata": {},
     "output_type": "execute_result"
    }
   ],
   "source": [
    "subset[subset.isna().any(axis=1)]"
   ]
  },
  {
   "cell_type": "code",
   "execution_count": 15,
   "id": "6bf6f2f7",
   "metadata": {},
   "outputs": [],
   "source": [
    "subset.ffill(axis=0, inplace=True, limit=2)"
   ]
  },
  {
   "cell_type": "markdown",
   "id": "f54a6133",
   "metadata": {},
   "source": [
    " nulls. what do we have left?"
   ]
  },
  {
   "cell_type": "code",
   "execution_count": 16,
   "id": "364bdcdd",
   "metadata": {},
   "outputs": [
    {
     "data": {
      "text/plain": [
       "0"
      ]
     },
     "execution_count": 16,
     "metadata": {},
     "output_type": "execute_result"
    }
   ],
   "source": [
    "subset.isna().sum().sum()"
   ]
  },
  {
   "cell_type": "code",
   "execution_count": 17,
   "id": "d3bffee8",
   "metadata": {},
   "outputs": [
    {
     "data": {
      "text/plain": [
       "<bound method NDFrame.head of       RegionName  2000-01-31  2000-02-29  2000-03-31  2000-04-30  2000-05-31  \\\n",
       "95         95630    348238.0    349577.0    351199.0    354037.0    357528.0   \n",
       "255        95624    239287.0    240279.0    241601.0    243729.0    245949.0   \n",
       "5343       95818    194506.0    196055.0    197607.0    200047.0    202376.0   \n",
       "5716       95819    138407.0    139184.0    140067.0    141140.0    142906.0   \n",
       "\n",
       "      2000-06-30  2000-07-31  2000-08-31  2000-09-30  ...  2021-11-30  \\\n",
       "95      360617.0    365232.0    368961.0    373433.0  ...    995908.0   \n",
       "255     248363.0    250959.0    253741.0    256325.0  ...    726830.0   \n",
       "5343    202933.0    206037.0    209308.0    214076.0  ...   1221293.0   \n",
       "5716    144435.0    146251.0    147122.0    149186.0  ...   1251315.0   \n",
       "\n",
       "      2021-12-31  2022-01-31  2022-02-28  2022-03-31  2022-04-30  2022-05-31  \\\n",
       "95      999957.0   1015597.0   1031689.0   1047843.0   1061367.0   1075306.0   \n",
       "255     734117.0    747478.0    760560.0    772249.0    781733.0    791239.0   \n",
       "5343   1224653.0   1240460.0   1259573.0   1280311.0   1301152.0   1320879.0   \n",
       "5716   1253802.0   1271997.0   1296843.0   1322138.0   1345789.0   1363416.0   \n",
       "\n",
       "      2022-06-30  2022-07-31  2022-08-31  \n",
       "95     1086665.0   1087806.0   1069922.0  \n",
       "255     798696.0    798795.0    788007.0  \n",
       "5343   1334213.0   1326517.0   1296456.0  \n",
       "5716   1377550.0   1367673.0   1334441.0  \n",
       "\n",
       "[4 rows x 273 columns]>"
      ]
     },
     "execution_count": 17,
     "metadata": {},
     "output_type": "execute_result"
    }
   ],
   "source": [
    "subset.head"
   ]
  },
  {
   "cell_type": "markdown",
   "id": "c33c2842",
   "metadata": {},
   "source": [
    " calculate percent increase from yr to yr in sac\n",
    "*  create df and define func (function)\n",
    "*  create copy \n",
    "   *  copy() method creates a copy of an existing list"
   ]
  },
  {
   "cell_type": "code",
   "execution_count": 18,
   "id": "ec29562a",
   "metadata": {},
   "outputs": [],
   "source": [
    "def calculate_percent_increase(x1, x2):\n",
    "    return ((x2-x1)/x1)*100"
   ]
  },
  {
   "cell_type": "code",
   "execution_count": 19,
   "id": "07de012a",
   "metadata": {},
   "outputs": [],
   "source": [
    "subset_percent = subset.copy()\n",
    "for i in range(subset_percent.shape[1]-1,1, -1):\n",
    "    prior = subset_percent.iloc[:, i-1]\n",
    "    current = subset_percent.iloc[:, i] \n",
    "    subset_percent.iloc[:, i] = calculate_percent_increase(prior, current)"
   ]
  },
  {
   "cell_type": "code",
   "execution_count": 20,
   "id": "4096ccee",
   "metadata": {
    "scrolled": true
   },
   "outputs": [
    {
     "data": {
      "text/html": [
       "<div>\n",
       "<style scoped>\n",
       "    .dataframe tbody tr th:only-of-type {\n",
       "        vertical-align: middle;\n",
       "    }\n",
       "\n",
       "    .dataframe tbody tr th {\n",
       "        vertical-align: top;\n",
       "    }\n",
       "\n",
       "    .dataframe thead th {\n",
       "        text-align: right;\n",
       "    }\n",
       "</style>\n",
       "<table border=\"1\" class=\"dataframe\">\n",
       "  <thead>\n",
       "    <tr style=\"text-align: right;\">\n",
       "      <th></th>\n",
       "      <th>RegionName</th>\n",
       "      <th>2000-01-31</th>\n",
       "      <th>2000-02-29</th>\n",
       "      <th>2000-03-31</th>\n",
       "      <th>2000-04-30</th>\n",
       "      <th>2000-05-31</th>\n",
       "      <th>2000-06-30</th>\n",
       "      <th>2000-07-31</th>\n",
       "      <th>2000-08-31</th>\n",
       "      <th>2000-09-30</th>\n",
       "      <th>...</th>\n",
       "      <th>2021-11-30</th>\n",
       "      <th>2021-12-31</th>\n",
       "      <th>2022-01-31</th>\n",
       "      <th>2022-02-28</th>\n",
       "      <th>2022-03-31</th>\n",
       "      <th>2022-04-30</th>\n",
       "      <th>2022-05-31</th>\n",
       "      <th>2022-06-30</th>\n",
       "      <th>2022-07-31</th>\n",
       "      <th>2022-08-31</th>\n",
       "    </tr>\n",
       "  </thead>\n",
       "  <tbody>\n",
       "    <tr>\n",
       "      <th>95</th>\n",
       "      <td>95630</td>\n",
       "      <td>348238.0</td>\n",
       "      <td>0.384507</td>\n",
       "      <td>0.463989</td>\n",
       "      <td>0.808089</td>\n",
       "      <td>0.986055</td>\n",
       "      <td>0.863988</td>\n",
       "      <td>1.279751</td>\n",
       "      <td>1.020995</td>\n",
       "      <td>1.212052</td>\n",
       "      <td>...</td>\n",
       "      <td>0.626956</td>\n",
       "      <td>0.406564</td>\n",
       "      <td>1.564067</td>\n",
       "      <td>1.584487</td>\n",
       "      <td>1.565782</td>\n",
       "      <td>1.290651</td>\n",
       "      <td>1.313306</td>\n",
       "      <td>1.056350</td>\n",
       "      <td>0.105000</td>\n",
       "      <td>-1.644043</td>\n",
       "    </tr>\n",
       "    <tr>\n",
       "      <th>255</th>\n",
       "      <td>95624</td>\n",
       "      <td>239287.0</td>\n",
       "      <td>0.414565</td>\n",
       "      <td>0.550194</td>\n",
       "      <td>0.880791</td>\n",
       "      <td>0.910848</td>\n",
       "      <td>0.981504</td>\n",
       "      <td>1.045244</td>\n",
       "      <td>1.108548</td>\n",
       "      <td>1.018361</td>\n",
       "      <td>...</td>\n",
       "      <td>0.959548</td>\n",
       "      <td>1.002573</td>\n",
       "      <td>1.820010</td>\n",
       "      <td>1.750152</td>\n",
       "      <td>1.536894</td>\n",
       "      <td>1.228101</td>\n",
       "      <td>1.216016</td>\n",
       "      <td>0.942446</td>\n",
       "      <td>0.012395</td>\n",
       "      <td>-1.350534</td>\n",
       "    </tr>\n",
       "    <tr>\n",
       "      <th>5343</th>\n",
       "      <td>95818</td>\n",
       "      <td>194506.0</td>\n",
       "      <td>0.796376</td>\n",
       "      <td>0.791615</td>\n",
       "      <td>1.234774</td>\n",
       "      <td>1.164226</td>\n",
       "      <td>0.275230</td>\n",
       "      <td>1.529569</td>\n",
       "      <td>1.587579</td>\n",
       "      <td>2.277983</td>\n",
       "      <td>...</td>\n",
       "      <td>0.167316</td>\n",
       "      <td>0.275118</td>\n",
       "      <td>1.290733</td>\n",
       "      <td>1.540799</td>\n",
       "      <td>1.646431</td>\n",
       "      <td>1.627808</td>\n",
       "      <td>1.516118</td>\n",
       "      <td>1.009479</td>\n",
       "      <td>-0.576819</td>\n",
       "      <td>-2.266160</td>\n",
       "    </tr>\n",
       "    <tr>\n",
       "      <th>5716</th>\n",
       "      <td>95819</td>\n",
       "      <td>138407.0</td>\n",
       "      <td>0.561388</td>\n",
       "      <td>0.634412</td>\n",
       "      <td>0.766062</td>\n",
       "      <td>1.251240</td>\n",
       "      <td>1.069934</td>\n",
       "      <td>1.257313</td>\n",
       "      <td>0.595551</td>\n",
       "      <td>1.402917</td>\n",
       "      <td>...</td>\n",
       "      <td>-0.151132</td>\n",
       "      <td>0.198751</td>\n",
       "      <td>1.451186</td>\n",
       "      <td>1.953306</td>\n",
       "      <td>1.950506</td>\n",
       "      <td>1.788845</td>\n",
       "      <td>1.309789</td>\n",
       "      <td>1.036661</td>\n",
       "      <td>-0.716998</td>\n",
       "      <td>-2.429821</td>\n",
       "    </tr>\n",
       "  </tbody>\n",
       "</table>\n",
       "<p>4 rows × 273 columns</p>\n",
       "</div>"
      ],
      "text/plain": [
       "      RegionName  2000-01-31  2000-02-29  2000-03-31  2000-04-30  2000-05-31  \\\n",
       "95         95630    348238.0    0.384507    0.463989    0.808089    0.986055   \n",
       "255        95624    239287.0    0.414565    0.550194    0.880791    0.910848   \n",
       "5343       95818    194506.0    0.796376    0.791615    1.234774    1.164226   \n",
       "5716       95819    138407.0    0.561388    0.634412    0.766062    1.251240   \n",
       "\n",
       "      2000-06-30  2000-07-31  2000-08-31  2000-09-30  ...  2021-11-30  \\\n",
       "95      0.863988    1.279751    1.020995    1.212052  ...    0.626956   \n",
       "255     0.981504    1.045244    1.108548    1.018361  ...    0.959548   \n",
       "5343    0.275230    1.529569    1.587579    2.277983  ...    0.167316   \n",
       "5716    1.069934    1.257313    0.595551    1.402917  ...   -0.151132   \n",
       "\n",
       "      2021-12-31  2022-01-31  2022-02-28  2022-03-31  2022-04-30  2022-05-31  \\\n",
       "95      0.406564    1.564067    1.584487    1.565782    1.290651    1.313306   \n",
       "255     1.002573    1.820010    1.750152    1.536894    1.228101    1.216016   \n",
       "5343    0.275118    1.290733    1.540799    1.646431    1.627808    1.516118   \n",
       "5716    0.198751    1.451186    1.953306    1.950506    1.788845    1.309789   \n",
       "\n",
       "      2022-06-30  2022-07-31  2022-08-31  \n",
       "95      1.056350    0.105000   -1.644043  \n",
       "255     0.942446    0.012395   -1.350534  \n",
       "5343    1.009479   -0.576819   -2.266160  \n",
       "5716    1.036661   -0.716998   -2.429821  \n",
       "\n",
       "[4 rows x 273 columns]"
      ]
     },
     "execution_count": 20,
     "metadata": {},
     "output_type": "execute_result"
    }
   ],
   "source": [
    "subset_percent.head(4)"
   ]
  },
  {
   "cell_type": "code",
   "execution_count": 21,
   "id": "49f269c7",
   "metadata": {},
   "outputs": [],
   "source": [
    "subset_percent.drop('2000-01-31' ,axis=1, inplace=True)"
   ]
  },
  {
   "cell_type": "code",
   "execution_count": 22,
   "id": "2effeb90",
   "metadata": {},
   "outputs": [
    {
     "data": {
      "text/html": [
       "<div>\n",
       "<style scoped>\n",
       "    .dataframe tbody tr th:only-of-type {\n",
       "        vertical-align: middle;\n",
       "    }\n",
       "\n",
       "    .dataframe tbody tr th {\n",
       "        vertical-align: top;\n",
       "    }\n",
       "\n",
       "    .dataframe thead th {\n",
       "        text-align: right;\n",
       "    }\n",
       "</style>\n",
       "<table border=\"1\" class=\"dataframe\">\n",
       "  <thead>\n",
       "    <tr style=\"text-align: right;\">\n",
       "      <th></th>\n",
       "      <th>RegionName</th>\n",
       "      <th>2000-02-29</th>\n",
       "      <th>2000-03-31</th>\n",
       "      <th>2000-04-30</th>\n",
       "      <th>2000-05-31</th>\n",
       "      <th>2000-06-30</th>\n",
       "      <th>2000-07-31</th>\n",
       "      <th>2000-08-31</th>\n",
       "      <th>2000-09-30</th>\n",
       "      <th>2000-10-31</th>\n",
       "      <th>...</th>\n",
       "      <th>2021-11-30</th>\n",
       "      <th>2021-12-31</th>\n",
       "      <th>2022-01-31</th>\n",
       "      <th>2022-02-28</th>\n",
       "      <th>2022-03-31</th>\n",
       "      <th>2022-04-30</th>\n",
       "      <th>2022-05-31</th>\n",
       "      <th>2022-06-30</th>\n",
       "      <th>2022-07-31</th>\n",
       "      <th>2022-08-31</th>\n",
       "    </tr>\n",
       "  </thead>\n",
       "  <tbody>\n",
       "    <tr>\n",
       "      <th>95</th>\n",
       "      <td>95630</td>\n",
       "      <td>0.384507</td>\n",
       "      <td>0.463989</td>\n",
       "      <td>0.808089</td>\n",
       "      <td>0.986055</td>\n",
       "      <td>0.863988</td>\n",
       "      <td>1.279751</td>\n",
       "      <td>1.020995</td>\n",
       "      <td>1.212052</td>\n",
       "      <td>1.098725</td>\n",
       "      <td>...</td>\n",
       "      <td>0.626956</td>\n",
       "      <td>0.406564</td>\n",
       "      <td>1.564067</td>\n",
       "      <td>1.584487</td>\n",
       "      <td>1.565782</td>\n",
       "      <td>1.290651</td>\n",
       "      <td>1.313306</td>\n",
       "      <td>1.056350</td>\n",
       "      <td>0.105000</td>\n",
       "      <td>-1.644043</td>\n",
       "    </tr>\n",
       "    <tr>\n",
       "      <th>255</th>\n",
       "      <td>95624</td>\n",
       "      <td>0.414565</td>\n",
       "      <td>0.550194</td>\n",
       "      <td>0.880791</td>\n",
       "      <td>0.910848</td>\n",
       "      <td>0.981504</td>\n",
       "      <td>1.045244</td>\n",
       "      <td>1.108548</td>\n",
       "      <td>1.018361</td>\n",
       "      <td>1.209402</td>\n",
       "      <td>...</td>\n",
       "      <td>0.959548</td>\n",
       "      <td>1.002573</td>\n",
       "      <td>1.820010</td>\n",
       "      <td>1.750152</td>\n",
       "      <td>1.536894</td>\n",
       "      <td>1.228101</td>\n",
       "      <td>1.216016</td>\n",
       "      <td>0.942446</td>\n",
       "      <td>0.012395</td>\n",
       "      <td>-1.350534</td>\n",
       "    </tr>\n",
       "    <tr>\n",
       "      <th>5343</th>\n",
       "      <td>95818</td>\n",
       "      <td>0.796376</td>\n",
       "      <td>0.791615</td>\n",
       "      <td>1.234774</td>\n",
       "      <td>1.164226</td>\n",
       "      <td>0.275230</td>\n",
       "      <td>1.529569</td>\n",
       "      <td>1.587579</td>\n",
       "      <td>2.277983</td>\n",
       "      <td>1.797492</td>\n",
       "      <td>...</td>\n",
       "      <td>0.167316</td>\n",
       "      <td>0.275118</td>\n",
       "      <td>1.290733</td>\n",
       "      <td>1.540799</td>\n",
       "      <td>1.646431</td>\n",
       "      <td>1.627808</td>\n",
       "      <td>1.516118</td>\n",
       "      <td>1.009479</td>\n",
       "      <td>-0.576819</td>\n",
       "      <td>-2.266160</td>\n",
       "    </tr>\n",
       "    <tr>\n",
       "      <th>5716</th>\n",
       "      <td>95819</td>\n",
       "      <td>0.561388</td>\n",
       "      <td>0.634412</td>\n",
       "      <td>0.766062</td>\n",
       "      <td>1.251240</td>\n",
       "      <td>1.069934</td>\n",
       "      <td>1.257313</td>\n",
       "      <td>0.595551</td>\n",
       "      <td>1.402917</td>\n",
       "      <td>2.048450</td>\n",
       "      <td>...</td>\n",
       "      <td>-0.151132</td>\n",
       "      <td>0.198751</td>\n",
       "      <td>1.451186</td>\n",
       "      <td>1.953306</td>\n",
       "      <td>1.950506</td>\n",
       "      <td>1.788845</td>\n",
       "      <td>1.309789</td>\n",
       "      <td>1.036661</td>\n",
       "      <td>-0.716998</td>\n",
       "      <td>-2.429821</td>\n",
       "    </tr>\n",
       "  </tbody>\n",
       "</table>\n",
       "<p>4 rows × 272 columns</p>\n",
       "</div>"
      ],
      "text/plain": [
       "      RegionName  2000-02-29  2000-03-31  2000-04-30  2000-05-31  2000-06-30  \\\n",
       "95         95630    0.384507    0.463989    0.808089    0.986055    0.863988   \n",
       "255        95624    0.414565    0.550194    0.880791    0.910848    0.981504   \n",
       "5343       95818    0.796376    0.791615    1.234774    1.164226    0.275230   \n",
       "5716       95819    0.561388    0.634412    0.766062    1.251240    1.069934   \n",
       "\n",
       "      2000-07-31  2000-08-31  2000-09-30  2000-10-31  ...  2021-11-30  \\\n",
       "95      1.279751    1.020995    1.212052    1.098725  ...    0.626956   \n",
       "255     1.045244    1.108548    1.018361    1.209402  ...    0.959548   \n",
       "5343    1.529569    1.587579    2.277983    1.797492  ...    0.167316   \n",
       "5716    1.257313    0.595551    1.402917    2.048450  ...   -0.151132   \n",
       "\n",
       "      2021-12-31  2022-01-31  2022-02-28  2022-03-31  2022-04-30  2022-05-31  \\\n",
       "95      0.406564    1.564067    1.584487    1.565782    1.290651    1.313306   \n",
       "255     1.002573    1.820010    1.750152    1.536894    1.228101    1.216016   \n",
       "5343    0.275118    1.290733    1.540799    1.646431    1.627808    1.516118   \n",
       "5716    0.198751    1.451186    1.953306    1.950506    1.788845    1.309789   \n",
       "\n",
       "      2022-06-30  2022-07-31  2022-08-31  \n",
       "95      1.056350    0.105000   -1.644043  \n",
       "255     0.942446    0.012395   -1.350534  \n",
       "5343    1.009479   -0.576819   -2.266160  \n",
       "5716    1.036661   -0.716998   -2.429821  \n",
       "\n",
       "[4 rows x 272 columns]"
      ]
     },
     "execution_count": 22,
     "metadata": {},
     "output_type": "execute_result"
    }
   ],
   "source": [
    "subset_percent.head()"
   ]
  },
  {
   "cell_type": "markdown",
   "id": "a36ef075",
   "metadata": {},
   "source": [
    " check df  percent increase"
   ]
  },
  {
   "cell_type": "markdown",
   "id": "4b84d794",
   "metadata": {},
   "source": [
    " transpose data\n",
    "*  changing to wide format"
   ]
  },
  {
   "cell_type": "code",
   "execution_count": 23,
   "id": "507093cb",
   "metadata": {},
   "outputs": [],
   "source": [
    "subset_percent = subset_percent.set_index('RegionName').transpose()"
   ]
  },
  {
   "cell_type": "code",
   "execution_count": 24,
   "id": "06b472de",
   "metadata": {},
   "outputs": [],
   "source": [
    "subset = subset.set_index('RegionName').transpose()"
   ]
  },
  {
   "cell_type": "code",
   "execution_count": 25,
   "id": "2c3db816",
   "metadata": {},
   "outputs": [
    {
     "data": {
      "text/html": [
       "<div>\n",
       "<style scoped>\n",
       "    .dataframe tbody tr th:only-of-type {\n",
       "        vertical-align: middle;\n",
       "    }\n",
       "\n",
       "    .dataframe tbody tr th {\n",
       "        vertical-align: top;\n",
       "    }\n",
       "\n",
       "    .dataframe thead th {\n",
       "        text-align: right;\n",
       "    }\n",
       "</style>\n",
       "<table border=\"1\" class=\"dataframe\">\n",
       "  <thead>\n",
       "    <tr style=\"text-align: right;\">\n",
       "      <th>RegionName</th>\n",
       "      <th>95630</th>\n",
       "      <th>95624</th>\n",
       "      <th>95818</th>\n",
       "      <th>95819</th>\n",
       "    </tr>\n",
       "  </thead>\n",
       "  <tbody>\n",
       "    <tr>\n",
       "      <th>2000-02-29</th>\n",
       "      <td>0.384507</td>\n",
       "      <td>0.414565</td>\n",
       "      <td>0.796376</td>\n",
       "      <td>0.561388</td>\n",
       "    </tr>\n",
       "    <tr>\n",
       "      <th>2000-03-31</th>\n",
       "      <td>0.463989</td>\n",
       "      <td>0.550194</td>\n",
       "      <td>0.791615</td>\n",
       "      <td>0.634412</td>\n",
       "    </tr>\n",
       "    <tr>\n",
       "      <th>2000-04-30</th>\n",
       "      <td>0.808089</td>\n",
       "      <td>0.880791</td>\n",
       "      <td>1.234774</td>\n",
       "      <td>0.766062</td>\n",
       "    </tr>\n",
       "    <tr>\n",
       "      <th>2000-05-31</th>\n",
       "      <td>0.986055</td>\n",
       "      <td>0.910848</td>\n",
       "      <td>1.164226</td>\n",
       "      <td>1.251240</td>\n",
       "    </tr>\n",
       "  </tbody>\n",
       "</table>\n",
       "</div>"
      ],
      "text/plain": [
       "RegionName     95630     95624     95818     95819\n",
       "2000-02-29  0.384507  0.414565  0.796376  0.561388\n",
       "2000-03-31  0.463989  0.550194  0.791615  0.634412\n",
       "2000-04-30  0.808089  0.880791  1.234774  0.766062\n",
       "2000-05-31  0.986055  0.910848  1.164226  1.251240"
      ]
     },
     "execution_count": 25,
     "metadata": {},
     "output_type": "execute_result"
    }
   ],
   "source": [
    "subset_percent.head(4)"
   ]
  },
  {
   "cell_type": "code",
   "execution_count": 26,
   "id": "2b3ee9c3",
   "metadata": {},
   "outputs": [
    {
     "data": {
      "text/html": [
       "<div>\n",
       "<style scoped>\n",
       "    .dataframe tbody tr th:only-of-type {\n",
       "        vertical-align: middle;\n",
       "    }\n",
       "\n",
       "    .dataframe tbody tr th {\n",
       "        vertical-align: top;\n",
       "    }\n",
       "\n",
       "    .dataframe thead th {\n",
       "        text-align: right;\n",
       "    }\n",
       "</style>\n",
       "<table border=\"1\" class=\"dataframe\">\n",
       "  <thead>\n",
       "    <tr style=\"text-align: right;\">\n",
       "      <th>RegionName</th>\n",
       "      <th>95630</th>\n",
       "      <th>95624</th>\n",
       "      <th>95818</th>\n",
       "      <th>95819</th>\n",
       "    </tr>\n",
       "  </thead>\n",
       "  <tbody>\n",
       "    <tr>\n",
       "      <th>2000-01-31</th>\n",
       "      <td>348238.0</td>\n",
       "      <td>239287.0</td>\n",
       "      <td>194506.0</td>\n",
       "      <td>138407.0</td>\n",
       "    </tr>\n",
       "    <tr>\n",
       "      <th>2000-02-29</th>\n",
       "      <td>349577.0</td>\n",
       "      <td>240279.0</td>\n",
       "      <td>196055.0</td>\n",
       "      <td>139184.0</td>\n",
       "    </tr>\n",
       "    <tr>\n",
       "      <th>2000-03-31</th>\n",
       "      <td>351199.0</td>\n",
       "      <td>241601.0</td>\n",
       "      <td>197607.0</td>\n",
       "      <td>140067.0</td>\n",
       "    </tr>\n",
       "    <tr>\n",
       "      <th>2000-04-30</th>\n",
       "      <td>354037.0</td>\n",
       "      <td>243729.0</td>\n",
       "      <td>200047.0</td>\n",
       "      <td>141140.0</td>\n",
       "    </tr>\n",
       "  </tbody>\n",
       "</table>\n",
       "</div>"
      ],
      "text/plain": [
       "RegionName     95630     95624     95818     95819\n",
       "2000-01-31  348238.0  239287.0  194506.0  138407.0\n",
       "2000-02-29  349577.0  240279.0  196055.0  139184.0\n",
       "2000-03-31  351199.0  241601.0  197607.0  140067.0\n",
       "2000-04-30  354037.0  243729.0  200047.0  141140.0"
      ]
     },
     "execution_count": 26,
     "metadata": {},
     "output_type": "execute_result"
    }
   ],
   "source": [
    "subset.head(4)"
   ]
  },
  {
   "cell_type": "markdown",
   "id": "3fc83f2b",
   "metadata": {},
   "source": [
    " Let's convert the index to datetime!\n",
    "\n",
    "*  strftime() function is used to convert to Index using specified date_format.\n",
    "*   columns.name=none- names the index, by default it is None or blank, the columns are of type IndexArray"
   ]
  },
  {
   "cell_type": "code",
   "execution_count": 27,
   "id": "012d054b",
   "metadata": {},
   "outputs": [],
   "source": [
    "subset_percent.index = p.DatetimeIndex(subset_percent.index)\n",
    "subset_percent.index = subset_percent.index.strftime('%m/%Y')\n",
    "subset_percent.columns.name = None"
   ]
  },
  {
   "cell_type": "code",
   "execution_count": 28,
   "id": "9d0b1beb",
   "metadata": {},
   "outputs": [],
   "source": [
    "subset.index = p.DatetimeIndex(subset.index)\n",
    "subset.index = subset.index.strftime('%m/%Y')\n",
    "subset.columns.name = None"
   ]
  },
  {
   "cell_type": "markdown",
   "id": "51f2188f",
   "metadata": {},
   "source": [
    " exporting 🥒\n"
   ]
  },
  {
   "cell_type": "code",
   "execution_count": 29,
   "id": "dbf58a46",
   "metadata": {},
   "outputs": [],
   "source": [
    "with open('pickle/timeseries_land_park_five_bedroom_subset_percent.pkl', 'wb') as fp:\n",
    "    pickle.dump(subset_percent, fp)"
   ]
  },
  {
   "cell_type": "code",
   "execution_count": 30,
   "id": "1c7dcb91",
   "metadata": {},
   "outputs": [],
   "source": [
    "with open('pickle/timeseries_land_park_five_bedroom_subset.pkl', 'wb') as fp:\n",
    "    pickle.dump(subset, fp)"
   ]
  }
 ],
 "metadata": {
  "kernelspec": {
   "display_name": "mlenv",
   "language": "python",
   "name": "mlenv"
  },
  "language_info": {
   "codemirror_mode": {
    "name": "ipython",
    "version": 3
   },
   "file_extension": ".py",
   "mimetype": "text/x-python",
   "name": "python",
   "nbconvert_exporter": "python",
   "pygments_lexer": "ipython3",
   "version": "3.7.13"
  },
  "nbTranslate": {
   "displayLangs": [
    "*"
   ],
   "hotkey": "alt-t",
   "langInMainMenu": true,
   "sourceLang": "en",
   "targetLang": "fr",
   "useGoogleTranslate": true
  }
 },
 "nbformat": 4,
 "nbformat_minor": 5
}
